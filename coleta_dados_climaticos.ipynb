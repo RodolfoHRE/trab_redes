{
  "cells": [
    {
      "cell_type": "markdown",
      "metadata": {},
      "source": [
        "<a href=\"https://colab.research.google.com/drive/1WDDr9dJTS5N_2z6gewJQUp3_Bf1-pvFZ#scrollTo=vO0_kZsC0ITc\" target=\"_parent\"><img src=\"https://colab.research.google.com/assets/colab-badge.svg\" alt=\"Open In Colab\"/></a>"
      ]
    },
    {
      "cell_type": "markdown",
      "metadata": {
        "id": "igRDZt0cmSkr"
      },
      "source": [
        "# **Redes de Computadores 1 – Projeto Prático Interdisciplinar**\n",
        "\n",
        "## Engenharia da Computação – Instituto Federal de Educação, Ciência e Tecnologia de São Paulo, Campus Piracicaba\n",
        "\n",
        "### Alunos\n",
        "\n",
        "- [Alexandre Medici Ceregato](mailto:)\n",
        "- [André Lisboa Augusto](mailto:andre.lisboa@aluno.ifsp.edu.br)\n",
        "- [Marcos Henrique Maimoni Campanella](mailto:marcos.campanella@aluno.ifsp.edu.br)\n",
        "- [Rodolfo Henrique Raymundo Engelmann](mailto:rodolfo.engelmann@aluno.ifsp.edu.br)\n",
        "- [Victor Probio Lopes](mailto:victor.probio@aluno.ifsp.edu.br)\n",
        "\n",
        "## Introdução\n",
        "\n",
        "Projeto desenvolvido em conjunto com a matéria de Microcontroladores, ministrada pelo Prof. Pablo Rodrigo de Souza.\n",
        "O tema deste projeto interdisciplinar foca na coleta e análise de dados climáticos em tempo real, elaborando uma aplicação IoT na qual os aspectos de hardware e software serão desenvolvidos, respectivamente, nas disciplinas de Microcontroladores e Redes de Computadores 1.\n",
        "</br>\n",
        "Os dados do tema são coletados no ambiente de cultivo da agricultura de precisão, afim de serem processados adequadamente em prol da tomada de ações que visem melhorar a eficiência geral do plantio.\n",
        "</br>\n",
        "Em maiores detalhes, o objetivo do programa desenvolvido é coletar os dados referentes à temperatura, umidade e pressão de um certo local onde se encontra uma placa microcontroladora ESP32 (cujo trabalho é ler os dados e enviá-los para um _broker_ MQTT). Com base nos dados coletados, o programa decide se uma semeadora e/ou uma irrigadora devem ser acionados no local de medição, e envia essas respostas para o _broker_, que são então lidas pelo ESP32, que por sua vez efetua as ações necessárias.\n",
        "</br>\n",
        "Além disso, o programa também salva as variáveis climaticas lidas do ESP32 em um arquivo CSV (um segundo por linha). Esse arquivo pode então ser carregado no software novamente para gerar gráficos referentes às medições em um determinado período.\n",
        "\n",
        "## Materiais e métodos\n",
        "\n",
        "O presente trabalho foi desenvolvido usando a linguagem de programação Python, funcionando em um _notebook_ Jupyter, programado especificamente para funcionar no serviço de hospedagem de _notebooks_ Google Colaboratory - já que utiliza-se de algumas de suas funcionalidades específicas (como menus e a integração com o Google Drive para hospedagem de arquivos).\n",
        "</br>\n",
        "Para o correto funcionamento do software, foi empregado o uso das bibliotecas `paho-mqtt`, `time`, `datetime`, `pandas`, `matplotlib`, `shutil`, `google` e `os`.\n",
        "\n",
        "## Instruções de uso\n",
        "\n",
        "Para executar o programa, é necessário executar suas células (partes individuais de código em um _notebook_ Jupyter). Cada Célula possui instruções específicas que podem ser lidas em uma célula textual acima do código. Para executar uma célula, basta mover o _mouse_ para cima desta e clicar sobre o botão de execução, em seu canto superior esquerdo."
      ]
    },
    {
      "cell_type": "markdown",
      "metadata": {
        "id": "j6inq5KGUf-x"
      },
      "source": [
        "### Importação das bibliotecas\n",
        "\n",
        "**É necessário executar a célula abaixo** para importar as bibliotecas utilizadas."
      ]
    },
    {
      "cell_type": "code",
      "execution_count": null,
      "metadata": {
        "id": "vchaPRZ30ITW"
      },
      "outputs": [],
      "source": [
        "# BIBLIOTECAS\n",
        "\n",
        "!pip install paho-mqtt\n",
        "import paho.mqtt.client as mqtt\n",
        "import time\n",
        "from datetime import datetime\n",
        "import pandas as pd\n",
        "import matplotlib.pyplot as plt\n",
        "import shutil\n",
        "from google.colab import files, drive\n",
        "import os.path"
      ]
    },
    {
      "cell_type": "markdown",
      "metadata": {
        "id": "8XH71985WUx6"
      },
      "source": [
        "### Definição das funcões do programa\n",
        "\n",
        "A célula abaixo contém as instruções necessárias para definir as rotinas utilizadas ao longo do programa. É a parte responsável por se conectar ao _broker_ MQTT escolhido (_broker_ público do HiveMQ), se inscrever nos tópicos de interesse, receber os dados do ESP32, salva-los em um arquivo CSV, tomar as decisões necessárias e enviar as respostas de volta ao _broker_. **É necessário executa-la uma vez.**\n",
        "</br>\n",
        "O parâmetro `nome_arquivo`especifica o nome do arquivo gerado pela leitura dos dados. Os próximos quatro parâmetros se referem a conexão com o _broker_ MQTT e são auto-explicativos.\n",
        "</br>\n",
        "Em seguida é possível definir com parâmetros `topico_irrigacao`, `topico_semeadura` e `topico_dados_climaticos` o tópico onde será publicada a decisão da irrigação ou não, o tópico onde será publicada a decisão da semeadura ou não e o tópico de onde serão lidos os valores das variáveis climáticas, respectivamente, no _broker_ MQTT informado."
      ]
    },
    {
      "cell_type": "code",
      "execution_count": null,
      "metadata": {
        "cellView": "form",
        "id": "vOxe2eue0ITa"
      },
      "outputs": [],
      "source": [
        "# FUNÇÕES\n",
        "\n",
        "# Define o menu\n",
        "nome_arquivo = \"dadosClimaticosGrupoZ.csv\" #@param {type: 'string'}\n",
        "#@markdown ---\n",
        "endereco_broker = \"broker.hivemq.com\" #@param {type: 'string'}\n",
        "porta = 1883 #@param {type: 'integer'}\n",
        "usuario = \"dadosClimaticosGrupoZ\" #@param {type: 'string'}\n",
        "senha = \"\" #@param {type: 'string'}\n",
        "#@markdown ---\n",
        "\n",
        "# Função que envia os dados de irrigação e semeadura\n",
        "def data_sender(irrigacao, semeadura):\n",
        "    client = mqtt.Client()\n",
        "\n",
        "    # Função executada ao se conectar\n",
        "    def on_connect(client, userdata, flags, rc):\n",
        "        print(\"Conectado com código de resultado: \" + str(rc))\n",
        "        topico_irrigacao = \"GrupoZ_irrigacao\" #@param {type: 'string'}\n",
        "        client.subscribe(topico_irrigacao)\n",
        "        client.publish(topico_irrigacao, irrigacao, retain=True)\n",
        "        topico_semeadura = \"GrupoZ_semeadura\" #@param {type: 'string'}\n",
        "        client.subscribe(topico_semeadura)\n",
        "        client.publish(topico_semeadura, semeadura, retain=True)\n",
        "    client.on_connect = on_connect\n",
        "\n",
        "    # Dados de conexão\n",
        "    client.username_pw_set(usuario, senha)\n",
        "\n",
        "    # Se conecta ao broker\n",
        "    client.connect(endereco_broker, porta, 60)\n",
        "\n",
        "    # Tenta se conectar\n",
        "    try:\n",
        "        # Entra em loop\n",
        "        client.loop_start()\n",
        "        time.sleep(2)\n",
        "    # Desconecta em caso de erros\n",
        "    except:\n",
        "        client.disconnect()\n",
        "        raise Exception(\"Desconectando...\")\n",
        "\n",
        "# Função que salva os dados no CSV\n",
        "def salvar_para_csv(dados):\n",
        "    with open(nome_arquivo, 'a', newline='\\n') as arquivo_csv:\n",
        "        arquivo_csv.write(dados + '\\n')\n",
        "    print(\"Dados salvos no arquivo CSV com sucesso!\")\n",
        "\n",
        "# Função que trata os dados lidos\n",
        "def data_treatment(dados):\n",
        "    # Salva os dados lidos\n",
        "    salvar_para_csv(dados)\n",
        "\n",
        "    # Separa as variáveis\n",
        "    dados_list = dados.split(';')\n",
        "    temperatura = float(dados_list[1])\n",
        "    umidade = float(dados_list[2])\n",
        "\n",
        "    # Toma as decisões\n",
        "    irrigacao = \"1\" if (20 < temperatura < 30) and (50 < umidade < 70) else \"0\" #50-70\n",
        "    semeadura = \"1\" if (15 < temperatura < 30) and (60 < umidade < 70) else \"0\" #60-70\n",
        "\n",
        "    # Envia as decisões tomadas\n",
        "    data_sender(irrigacao, semeadura)\n",
        "\n",
        "# Função que lê os dados do broker\n",
        "def data_reader():\n",
        "    # Inicializa o cliente MQTT\n",
        "    client = mqtt.Client()\n",
        "\n",
        "    # Se inscreve no tópico ao conectar\n",
        "    def on_connect(client, userdata, flags, rc):\n",
        "        print(\"Conectado com código de resultado: \" + str(rc))\n",
        "        #@markdown ---\n",
        "        topico_dados_climaticos = \"GrupoZ_time_temp_umi_press_alt\" #@param {type: 'string'}\n",
        "        client.subscribe(topico_dados_climaticos)\n",
        "\n",
        "    # Trata os dados recebidos\n",
        "    def on_message(client, userdata, msg):\n",
        "        print(\"Mensagem recebida no tópico {}: {}\".format(msg.topic, msg.payload.decode()))\n",
        "        data_treatment(msg.payload.decode())\n",
        "\n",
        "    client.on_connect = on_connect\n",
        "    client.on_message = on_message\n",
        "\n",
        "    # Dados da conexão\n",
        "    client.username_pw_set(usuario, senha)\n",
        "    client.connect(endereco_broker, porta, 60)\n",
        "\n",
        "    # Tenta se conectar\n",
        "    try:\n",
        "        # Entra em loop\n",
        "        client.loop_forever()\n",
        "    # Desconecta em caso de erros\n",
        "    except:\n",
        "        client.disconnect()\n",
        "        raise Exception(\"Desconectando...\")"
      ]
    },
    {
      "cell_type": "markdown",
      "metadata": {
        "id": "Ap56JTSiXuo8"
      },
      "source": [
        "### Coleta de dados do _broker_\n",
        "\n",
        "Para coletar os lados lidos pelo ESP32, **é necessário rodar a célula abaixo pelo período de tempo de coleta desejado. Para interromper a coleta, basta interromper a execução da célula.** Ela também é responsável por inicializar o arquivo CSV onde os dados são salvos. **Não é necessário executar essa célula caso os dados já estejam em mãos.**"
      ]
    },
    {
      "cell_type": "code",
      "execution_count": null,
      "metadata": {
        "id": "vO0_kZsC0ITc"
      },
      "outputs": [],
      "source": [
        "# COLETA DE DADOS\n",
        "\n",
        "# Se o arquivo CSV não existe, cria\n",
        "if not os.path.isfile(nome_arquivo):\n",
        "    with open(nome_arquivo, 'w', newline='\\n') as arquivo_csv:\n",
        "        print(f\"Criando novo arquivo CSV {nome_arquivo}\")\n",
        "        arquivo_csv.write(\"Timestamp;Temperatura;Umidade;Pressao;Altitude\\n\")\n",
        "else:\n",
        "    print(f\"Atualizando arquivo CSV {nome_arquivo}\")\n",
        "\n",
        "print(\"\\nEncerre a execução da célula para parar de coletar dados!\\n\")\n",
        "\n",
        "# Tenta ler os dados recebidos\n",
        "try:\n",
        "    data_reader()\n",
        "except:\n",
        "    print(\"Conexão com o broker encerrada!\")"
      ]
    },
    {
      "cell_type": "markdown",
      "metadata": {
        "id": "FV-zbnwRYW_8"
      },
      "source": [
        "### *Download* do arquivo CSV gerado\n",
        "\n",
        "**Não é necessário executar essa célula caso os dados já estejam em mãos**, caso contrário, deve-se primeiro escolher o tipo de *download* no menu da célula.\n",
        "</br>\n",
        "O tipo `google_drive` se conecta à conta do Google Drive do usuário e salva o arquivo na pasta `caminho_download_gdrive` especificada (deve terminar com o caractere `\\`) e com o nome digitado em `nome_download_gdrive`.\n",
        "</br>\n",
        "O tipo `direto` exibe um botão para baixar o arquivo na máquina local do usuário."
      ]
    },
    {
      "cell_type": "code",
      "execution_count": null,
      "metadata": {
        "cellView": "form",
        "id": "sEyIvkp3OqwK"
      },
      "outputs": [],
      "source": [
        "# DOWNLOAD DOS DADOS\n",
        "\n",
        "# Define o menu\n",
        "tipo_download = 'google_drive' #@param ['direto', 'google_drive'] {allow-input: false}\n",
        "caminho_download_gdrive = 'Escola/RCOC6/Trabalho 2/' #@param {type: 'string'}\n",
        "nome_download_gdrive = 'dadosSaida.csv' #@param {type: 'string'}\n",
        "\n",
        "# Se for um download direto\n",
        "if tipo_download == 'direto':\n",
        "    # Salva na máquina\n",
        "    files.download(file_name)\n",
        "# Senão, salva no Google Drive\n",
        "else:\n",
        "    shutil.copy(file_name, '/drive/My Drive/' + caminho_download_gdrive)"
      ]
    },
    {
      "cell_type": "markdown",
      "metadata": {
        "id": "M-SEDL7LcVHZ"
      },
      "source": [
        "### *Upload* de um arquivo CSV e exibição dos dados\n",
        "\n",
        "Para exibir os gráficos referentes a um período de coleta, deve-se primeiramente executar a célula e realizar o *upload* de um arquivo CSV **bold text**. **Recomenda-se fortemente carregar o arquivo diretamente do Google Drive**, visto que um _upload_ direto é consideravelmente lento. Assim como para o _download_, o carregamento pode ser controlado pela opção `tipo_upload`.\n",
        "</br>\n",
        "Se for definida como `google_drive`, o caminho completo até o CSV no Drive do usuário deve ser informado em `caminho_no_gdrive`.\n",
        "</br>\n",
        "Já o tipo `direto`permite carregar um arquivo da máquina local através do botão de _upload_, porém, com uma taxa lenta.\n",
        "</br>\n",
        "Se o `tipo_upload`for definido como `url`, um URL para o CSV deve ser informado em `url_csv`, e o programa baixará as informações submetidas.\n",
        "</br>\n",
        "O parâmetro `periodo` controla qual período de tempo será exibido no gráfico; as opções são auto-explicativas. **Se não houver uma quantidade suficiente de dados para o período selecionado, o programa irá exibir uma mensagem de erro.** É importante frisar que o programa infere o intervalo entre cada medição automaticamente (vê a diferença entre as duas últimas medidas), e considera esse mesmo intervalo para todas as leituras; ou seja, **foi projetado para leituras contínuas em intervalos regulares e desconsidera lacunas diferentes entre as medições.** Assim, se o intervalo entre a última e a penúltima medida for de 2 segundos, por exemplo, o programa considera que todas as outras leituras ocorrem a cada 2 segundos; caso haja uma lacuna de 5 anos entre uma medição `n`e a próxima medição `n+1`, o software irá considerar esses 5 anos como apenas 2 segundos."
      ]
    },
    {
      "cell_type": "code",
      "execution_count": null,
      "metadata": {
        "cellView": "form",
        "id": "FrPEnyRS0ITe"
      },
      "outputs": [],
      "source": [
        "# EXIBIÇÃO DE DADOS\n",
        "\n",
        "# Define o menu\n",
        "tipo_upload = 'google_drive' #@param ['direto', 'google_drive', 'url'] {allow-input: false}\n",
        "caminho_no_gdrive = 'Escola/RCOC6/Trabalho 2/dadosTesteFicticio.csv' #@param {type: 'string'}\n",
        "url_csv = 'https://github.com/RolfE-HR/trab_redes/raw/main/dadosTesteFicticio30Dias.csv' #@param {type: 'string'}\n",
        "\n",
        "# Nome do arquivo carregado\n",
        "arquivo_upload = \"\"\n",
        "\n",
        "# Se for carregado do Google Drive, monta o Drive do usuário e copia o arquivo\n",
        "if tipo_upload == 'google_drive':\n",
        "    drive.mount('/drive')\n",
        "    shutil.copy('/drive/My Drive/' + caminho_no_gdrive, '.')\n",
        "    arquivo_upload = os.path.basename(caminho_no_gdrive)\n",
        "# Já se for um upload direto, pega o arquivo carregado\n",
        "elif tipo_upload == 'direto':\n",
        "    uploaded = files.upload()\n",
        "    for fn in uploaded.keys():\n",
        "        arquivo_upload = fn\n",
        "# Caso seja informado um URL, baixa o arquivo informado\n",
        "elif tipo_upload == 'url':\n",
        "    !wget -nc $url_csv\n",
        "    arquivo_upload = os.path.basename(url_csv)\n",
        "\n",
        "# Leitura do arquivo CSV\n",
        "df = pd.read_csv(arquivo_upload, sep=';').drop(columns=[\"Altitude\"])\n",
        "# Mostra o head do dataframe\n",
        "print(df.head())\n",
        "\n",
        "# Salva o tempo da última medida no período\n",
        "t0 = df['Timestamp'].iloc[-1]\n",
        "# Subtrai do tempo da segunda leitura para obter a frequencia de coleta de dados\n",
        "delta_t = t0 - df['Timestamp'].iloc[-2]\n",
        "\n",
        "# Seleção do período para visualização dos dados\n",
        "#@markdown ---\n",
        "periodo = \"Minutos / Ultima hora\" #@param [\"Segundos / Sempre\", \"Minutos / Ultima hora\", \"Horas / Ultimo dia\", \"Dias / Ultima semana\"]\n",
        "\n",
        "# Dicionário para conversão de segundos para o período selecionado\n",
        "dict_periodo = {\n",
        "    \"Segundos / Sempre\": [1, 60, \"Segundos desde \"], # Não é necessário agrupar os dados\n",
        "    \"Minutos / Ultima hora\": [60, 60, \"Minutos desde \"],\n",
        "    \"Horas / Ultimo dia\": [3600, 24, \"Horas desde um \"],\n",
        "    \"Dias / Ultima semana\": [86400, 7, \"Dias desde \"]\n",
        "}\n",
        "\n",
        "# Agrupamento dos dados de acordo com o período selecionado\n",
        "# Se não houver dados suficientes para o período selecionado, exibe uma mensagem de erro\n",
        "if df.shape[0] < (dict_periodo[periodo][0] // delta_t)*dict_periodo[periodo][1]:\n",
        "    print(\"Não há dados suficientes para o período selecionado!\")\n",
        "    exit()\n",
        "\n",
        "# Agrupa os dados de acordo com o período selecionado e faz a média dos valores\n",
        "df_periodo = df.groupby(df.index // (dict_periodo[periodo][0] // delta_t)).mean().tail(dict_periodo[periodo][1])\n",
        "# Remove a coluna \"Timestamp\"\n",
        "df_periodo = df_periodo.drop(columns=[\"Timestamp\"])\n",
        "# Cria uma coluna com o tempo em minutos/horas/dias\n",
        "df_periodo = df_periodo.reset_index(drop=True)\n",
        "\n",
        "# Converte o tempo t0\n",
        "t0 = datetime.fromtimestamp(t0).strftime(\"%d/%m/%y %H:%M:%S\")\n",
        "\n",
        "# Plota os gráficos\n",
        "fig, axs = plt.subplots(3, 1)\n",
        "df.plot(y='Temperatura', ax=axs[0], title=\"Tempo X Temperatura\", xlabel=\"\", ylabel=\"Temperatura (°C)\", xlim=[0,dict_periodo[periodo][1]-1], grid=True, xticks=range(0,dict_periodo[periodo][1]), figsize=(25,10))\n",
        "df.plot(y='Umidade', ax=axs[1], title=\"Tempo X Umidade\", xlabel=\"\", ylabel=\"Umidade (%Ur)\", xlim=[0,dict_periodo[periodo][1]-1], grid=True, xticks=range(0,dict_periodo[periodo][1]), figsize=(25,10))\n",
        "df.plot(y='Pressao', ax=axs[2], title=\"Tempo X Pressão\", xlabel=(dict_periodo[periodo][2] + t0), ylabel=\"Pressão (hPa)\", xlim=[0,dict_periodo[periodo][1]-1], grid=True, xticks=range(0,dict_periodo[periodo][1]), figsize=(25,10))\n",
        "fig_manager = plt.get_current_fig_manager()\n",
        "plt.show()"
      ]
    }
  ],
  "metadata": {
    "colab": {
      "provenance": []
    },
    "kernelspec": {
      "display_name": "Python 3",
      "language": "python",
      "name": "python3"
    },
    "language_info": {
      "codemirror_mode": {
        "name": "ipython",
        "version": 3
      },
      "file_extension": ".py",
      "mimetype": "text/x-python",
      "name": "python",
      "nbconvert_exporter": "python",
      "pygments_lexer": "ipython3",
      "version": "3.11.6"
    }
  },
  "nbformat": 4,
  "nbformat_minor": 0
}
