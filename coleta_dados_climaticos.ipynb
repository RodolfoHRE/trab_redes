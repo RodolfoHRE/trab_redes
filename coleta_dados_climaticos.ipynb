{
  "cells": [
    {
      "cell_type": "markdown",
      "metadata": {
        "id": "view-in-github",
        "colab_type": "text"
      },
      "source": [
        "<a href=\"https://colab.research.google.com/gist/VictorPLopes/6dd3fcbc1aa1eb787e41c2f00bf4a4d3/coleta_dados_climaticos.ipynb\" target=\"_parent\"><img src=\"https://colab.research.google.com/assets/colab-badge.svg\" alt=\"Open In Colab\"/></a>"
      ]
    },
    {
      "cell_type": "markdown",
      "source": [
        "# **Redes de Computadores 1 – Projeto Prático Interdisciplinar**\n",
        "\n",
        "## Engenharia da Computação – Instituto Federal de Educação, Ciência e Tecnologia de São Paulo, Campus Piracicaba\n",
        "\n",
        "### Alunos\n",
        "\n",
        "- [Alexandre Medici Ceregato](mailto:)\n",
        "- [André Lisboa Augusto](mailto:andre.lisboa@aluno.ifsp.edu.br)\n",
        "- [Marcos Henrique Maimoni Campanella](mailto:marcos.campanella@aluno.ifsp.edu.br)\n",
        "- [Rodolfo Henrique Raymundo Engelmann](mailto:rodolfo.engelmann@aluno.ifsp.edu.br)\n",
        "- [Victor Probio Lopes](mailto:victor.probio@aluno.ifsp.edu.br)\n",
        "\n",
        "## Introdução\n",
        "\n",
        "Projeto desenvolvido em conjunto com a matéria de Microcontroladores, ministrada pelo Prof. Pablo Rodrigo de Souza.\n",
        "O tema deste projeto interdisciplinar foca na coleta e análise de dados climáticos em tempo real, elaborando uma aplicação IoT na qual os aspectos de hardware e software serão desenvolvidos, respectivamente, nas disciplinas de Microcontroladores e Redes de Computadores 1.\n",
        "</br>\n",
        "Os dados do tema são coletados no ambiente de cultivo da agricultura de precisão, afim de serem processados adequadamente em prol da tomada de ações que visem melhorar a eficiência geral do plantio.\n",
        "</br>\n",
        "Em maiores detalhes, o objetivo do programa desenvolvido é coletar os dados referentes à temperatura, umidade e pressão de um certo local onde se encontra uma placa microcontroladora ESP32 (cujo trabalho é ler os dados e enviá-los para um _broker_ MQTT). Com base nos dados coletados, o programa decide se uma semeadora e/ou uma irrigadora devem ser acionados no local de medição, e envia essas respostas para o _broker_, que são então lidas pelo ESP32, que por sua vez efetua as ações necessárias.\n",
        "</br>\n",
        "Além disso, o programa também salva as variáveis climaticas lidas do ESP32 em um arquivo CSV (um segundo por linha). Esse arquivo pode então ser carregado no software novamente para gerar gráficos referentes às medições em um determinado período.\n",
        "\n",
        "## Materiais e métodos\n",
        "\n",
        "O presente trabalho foi desenvolvido usando a linguagem de programação Python, funcionando em um _notebook_ Jupyter, programado especificamente para funcionar no serviço de hospedagem de _notebooks_ Google Colaboratory - já que utiliza-se de algumas de suas funcionalidades específicas (como menus e a integração com o Google Drive para hospedagem de arquivos).\n",
        "</br>\n",
        "Para o correto funcionamento do software, foi empregado o uso das bibliotecas `paho-mqtt`, `time`, `pandas`, `matplotlib`, `shutil`, `google` e `os`.\n",
        "\n",
        "## Instruções de uso\n",
        "\n",
        "Para executar o programa, é necessário executar suas células (partes individuais de código em um _notebook_ Jupyter). Cada Célula possui instruções específicas que podem ser lidas em uma célula textual acima do código. Para executar uma célula, basta mover o _mouse_ para cima desta e clicar sobre o botão de execução, em seu canto superior esquerdo."
      ],
      "metadata": {
        "id": "igRDZt0cmSkr"
      }
    },
    {
      "cell_type": "markdown",
      "source": [
        "### Importação das bibliotecas\n",
        "\n",
        "É necessário executar a célula abaixo para importar as bibliotecas utilizadas."
      ],
      "metadata": {
        "id": "j6inq5KGUf-x"
      }
    },
    {
      "cell_type": "code",
      "execution_count": null,
      "metadata": {
        "id": "vchaPRZ30ITW"
      },
      "outputs": [],
      "source": [
        "# BIBLIOTECAS\n",
        "\n",
        "!pip install paho-mqtt\n",
        "import paho.mqtt.client as mqtt\n",
        "import time\n",
        "import pandas as pd\n",
        "import matplotlib.pyplot as plt\n",
        "import shutil\n",
        "from google.colab import files, drive\n",
        "import os.path"
      ]
    },
    {
      "cell_type": "markdown",
      "source": [
        "### Definição das funcões do programa\n",
        "\n",
        "A célula abaixo contém as instruções necessárias para definir as rotinas utilizadas ao longo do programa. É a parte responsável por se conectar ao _broker_ MQTT escolhido (_broker_ público do HiveMQ), se inscrever nos tópicos de interesse, receber os dados do ESP32, salva-los em um arquivo CSV, tomar as decisões necessárias e enviar as respostas de volta ao _broker_. É necessário executa-la uma vez."
      ],
      "metadata": {
        "id": "8XH71985WUx6"
      }
    },
    {
      "cell_type": "code",
      "execution_count": null,
      "metadata": {
        "id": "vOxe2eue0ITa"
      },
      "outputs": [],
      "source": [
        "# FUNÇÕES\n",
        "\n",
        "# Nome do arquivo CSV gerado\n",
        "file_name = 'dadosClimaticosGrupoZ.csv'\n",
        "\n",
        "# Dados da conexão ao broker\n",
        "broker_address = \"broker.hivemq.com\"\n",
        "port = 1883\n",
        "username = \"dadosClimaticosGrupoZ\"\n",
        "password = \"\"\n",
        "\n",
        "# Função que envia os dados de irrigação e semeadura\n",
        "def data_sender(irrigacao, semeadura):\n",
        "    client = mqtt.Client()\n",
        "\n",
        "    # Função executada ao se conectar\n",
        "    def on_connect(client, userdata, flags, rc):\n",
        "        print(\"Conectado com código de resultado: \" + str(rc))\n",
        "        client.subscribe(\"GrupoZ_irrigacao\")\n",
        "        client.publish(\"GrupoZ_irrigacao\", irrigacao, retain=True)\n",
        "        client.subscribe(\"GrupoZ_semeadura\")\n",
        "        client.publish(\"GrupoZ_semeadura\", semeadura, retain=True)\n",
        "    client.on_connect = on_connect\n",
        "\n",
        "    # Dados de conexão\n",
        "    client.username_pw_set(username, password)\n",
        "\n",
        "    # Se conecta ao broker\n",
        "    client.connect(broker_address, port, 60)\n",
        "\n",
        "    # Tenta se conectar\n",
        "    try:\n",
        "        # Entra em loop\n",
        "        client.loop_start()\n",
        "        time.sleep(2)\n",
        "    # Desconecta em caso de erros\n",
        "    except:\n",
        "        client.disconnect()\n",
        "        raise Exception(\"Desconectando...\")\n",
        "\n",
        "# Função que salva os dados no CSV\n",
        "def salvar_para_csv(dados):\n",
        "    with open(file_name, 'a', newline='\\n') as arquivo_csv:\n",
        "        arquivo_csv.write(dados + '\\n')\n",
        "    print(\"Dados salvos no arquivo CSV com sucesso!\")\n",
        "\n",
        "# Função que trata os dados lidos\n",
        "def data_treatment(dados):\n",
        "    # Salva os dados lidos\n",
        "    salvar_para_csv(dados)\n",
        "\n",
        "    # Separa as variáveis\n",
        "    dados_list = dados.split(';')\n",
        "    temperatura = float(dados_list[1])\n",
        "    umidade = float(dados_list[2])\n",
        "\n",
        "    # Toma as decisões\n",
        "    irrigacao = \"1\" if (20 < temperatura < 30) and (50 < umidade < 70) else \"0\" #50-70\n",
        "    semeadura = \"1\" if (15 < temperatura < 30) and (60 < umidade < 70) else \"0\" #60-70\n",
        "\n",
        "    # Envia as decisões tomadas\n",
        "    data_sender(irrigacao, semeadura)\n",
        "\n",
        "# Função que lê os dados do broker\n",
        "def data_reader():\n",
        "    # Inicializa o cliente MQTT\n",
        "    client = mqtt.Client()\n",
        "\n",
        "    # Se inscreve no tópico ao conectar\n",
        "    def on_connect(client, userdata, flags, rc):\n",
        "        print(\"Conectado com código de resultado: \" + str(rc))\n",
        "        client.subscribe(\"GrupoZ_time_temp_umi_press_alt\")\n",
        "\n",
        "    # Trata os dados recebidos\n",
        "    def on_message(client, userdata, msg):\n",
        "        print(\"Mensagem recebida no tópico {}: {}\".format(msg.topic, msg.payload.decode()))\n",
        "        data_treatment(msg.payload.decode())\n",
        "\n",
        "    client.on_connect = on_connect\n",
        "    client.on_message = on_message\n",
        "\n",
        "    # Dados da conexão\n",
        "    client.username_pw_set(username, password)\n",
        "    client.connect(broker_address, port, 60)\n",
        "\n",
        "    # Tenta se conectar\n",
        "    try:\n",
        "        # Entra em loop\n",
        "        client.loop_forever()\n",
        "    # Desconecta em caso de erros\n",
        "    except:\n",
        "        client.disconnect()\n",
        "        raise Exception(\"Desconectando...\")"
      ]
    },
    {
      "cell_type": "markdown",
      "source": [
        "### Coleta de dados do _broker_\n",
        "\n",
        "Para coletar os lados lidos pelo ESP32, é necessário rodar a célula abaixo pelo período de tempo de coleta desejado. Para interromper a coleta, basta interromper a execução da célula. Ela também é responsável por inicializar o arquivo CSV onde os dados são salvos. Não é necessário executar essa célula caso os dados já estejam em mãos."
      ],
      "metadata": {
        "id": "Ap56JTSiXuo8"
      }
    },
    {
      "cell_type": "code",
      "execution_count": null,
      "metadata": {
        "id": "vO0_kZsC0ITc"
      },
      "outputs": [],
      "source": [
        "# COLETA DE DADOS\n",
        "\n",
        "# Se o arquivo CSV não existe, cria\n",
        "if not os.path.isfile(file_name):\n",
        "    with open(file_name, 'w', newline='\\n') as arquivo_csv:\n",
        "        print(f\"Criando novo arquivo CSV {file_name}\")\n",
        "        arquivo_csv.write(\"Timestamp;Temperatura;Umidade;Pressao;Altitude\\n\")\n",
        "else:\n",
        "    print(f\"Atualizando arquivo CSV {file_name}\")\n",
        "\n",
        "print(\"\\nEncerre a execução da célula para parar de coletar dados!\\n\")\n",
        "\n",
        "# Tenta ler os dados recebidos\n",
        "try:\n",
        "    data_reader()\n",
        "except:\n",
        "    print(\"Conexão com o broker encerrada!\")"
      ]
    },
    {
      "cell_type": "markdown",
      "source": [
        "### *Download* do arquivo CSV gerado\n",
        "\n",
        "Não é necessário executar essa célula caso os dados já estejam em mãos, caso contrário, deve-se primeiro escolher o tipo de *download* no menu da célula.\n",
        "</br>\n",
        "O tipo `google_drive` se conecta à conta do Google Drive do usuário e salva o arquivo na pasta `caminho_download_gdrive` especificada (deve terminar com o caractere `\\`) e com o nome digitado em `nome_download_gdrive`.\n",
        "</br>\n",
        "O tipo `direto` exibe um botão para baixar o arquivo na máquina local do usuário."
      ],
      "metadata": {
        "id": "FV-zbnwRYW_8"
      }
    },
    {
      "cell_type": "code",
      "source": [
        "# DOWNLOAD DOS DADOS\n",
        "\n",
        "# Define o menu\n",
        "tipo_download = 'google_drive' #@param ['direto', 'google_drive'] {allow-input: false}\n",
        "caminho_download_gdrive = 'Escola/RCOC6/Trabalho 2/' #@param {type: 'string'}\n",
        "nome_download_gdrive = 'dadosSaida.csv' #@param {type: 'string'}\n",
        "\n",
        "# Se for um download direto\n",
        "if tipo_download == 'direto':\n",
        "    # Salva na máquina\n",
        "    files.download(file_name)\n",
        "# Senão, salva no Google Drive\n",
        "else:\n",
        "    shutil.copy(file_name, '/drive/My Drive/' + caminho_download_gdrive)"
      ],
      "metadata": {
        "id": "sEyIvkp3OqwK",
        "cellView": "form"
      },
      "execution_count": null,
      "outputs": []
    },
    {
      "cell_type": "markdown",
      "source": [
        "### *Upload* de um arquivo CSV e exibição dos dados\n",
        "\n",
        "Para exibir os gráficos referentes a um período de coleta, deve-se primeiramente realizar o *upload* de um arquivo CSV. Recomenda-se fortemente carregar o arquivo diretamente do Google Drive, visto que um _upload_ direto é consideravelmente lento. Assim como para o _download_, o carregamento pode ser controlado pela opção `tipo_upload`.\n",
        "</br>\n",
        "Se for definida como `google_drive`, o caminho completo até o CSV no Drive do usuário deve ser informado em `caminho_no_gdrive`.\n",
        "</br>\n",
        "Já o tipo `direto`permite carregar um arquivo da máquina local através do botão de _upload_, porém, com uma taxa lenta.\n",
        "</br>\n",
        "Se o `tipo_upload`for definido como `url`, um URL para o CSV deve ser informado em `url_csv`, e o programa baixará as informações submetidas.\n",
        "</br>\n",
        "O parâmetro `periodo` controla qual período de tempo será exibido no gráfico; as opções são auto-explicativas. Se não houver uma quantidade suficiente de dados para o período selecionado, o programa irá exibir uma mensagem de erro."
      ],
      "metadata": {
        "id": "M-SEDL7LcVHZ"
      }
    },
    {
      "cell_type": "code",
      "execution_count": null,
      "metadata": {
        "id": "FrPEnyRS0ITe",
        "cellView": "form"
      },
      "outputs": [],
      "source": [
        "# EXIBIÇÃO DE DADOS\n",
        "\n",
        "# Define o menu\n",
        "tipo_upload = 'google_drive' #@param ['direto', 'google_drive', 'url'] {allow-input: false}\n",
        "caminho_no_gdrive = 'Escola/RCOC6/Trabalho 2/dadosTesteFicticio.csv' #@param {type: 'string'}\n",
        "url_csv = '' #@param {type: 'string'}\n",
        "\n",
        "# Nome do arquivo carregado\n",
        "arquivo_upload = \"\"\n",
        "\n",
        "# Se for carregado do Google Drive, monta o Drive do usuário e copia o arquivo\n",
        "if tipo_upload == 'google_drive':\n",
        "    drive.mount('/drive')\n",
        "    shutil.copy('/drive/My Drive/' + caminho_no_gdrive, '.')\n",
        "    arquivo_upload = os.path.basename(caminho_no_gdrive)\n",
        "# Já se for um upload direto, pega o arquivo carregado\n",
        "elif tipo_upload == 'direto':\n",
        "    uploaded = files.upload()\n",
        "    for fn in uploaded.keys():\n",
        "        arquivo_upload = fn\n",
        "# Caso seja informado um URL, baixa o arquivo informado\n",
        "elif tipo_upload == 'url':\n",
        "    !wget -nc $url_blend\n",
        "    arquivo_upload = os.path.basename(url_csv)\n",
        "\n",
        "# Leitura do arquivo CSV\n",
        "df = pd.read_csv(arquivo_upload, sep=';').drop(columns=[\"Altitude\"])\n",
        "# Mostra o head do dataframe\n",
        "print(df.head())\n",
        "\n",
        "# Seleção do período para visualização dos dados\n",
        "#@markdown ---\n",
        "periodo = \"Dias / Ultima semana\" #@param [\"Segundos / Sempre\", \"Minutos / Ultima hora\", \"Horas / Ultimo dia\", \"Dias / Ultima semana\"]\n",
        "\n",
        "# Dicionário para conversão de segundos para o período selecionado\n",
        "dict_periodo = {\n",
        "    \"Segundos / Sempre\": [1, 60, \"Segundos desde um minuto atrás\"], # Não é necessário agrupar os dados\n",
        "    \"Minutos / Ultima hora\": [60, 60, \"Minutos desde uma hora atrás\"],\n",
        "    \"Horas / Ultimo dia\": [3600, 24, \"Horas desde um dia atrás\"],\n",
        "    \"Dias / Ultima semana\": [86400, 7, \"Dias desde uma semana atrás\"]\n",
        "}\n",
        "\n",
        "# Agrupamento dos dados de acordo com o período selecionado\n",
        "# Se não houver dados suficientes para o período selecionado, exibe uma mensagem de erro\n",
        "if df.shape[0] < dict_periodo[periodo][0]*dict_periodo[periodo][1]:\n",
        "    print(\"Não há dados suficientes para o período selecionado!\")\n",
        "    exit()\n",
        "# O agrupamento é feito pela média dos dados de cada período\n",
        "df_periodo = df.groupby(df.index // dict_periodo[periodo][0]).mean().tail(dict_periodo[periodo][1])\n",
        "# Remove a coluna \"Timestamp\"\n",
        "df_periodo = df_periodo.drop(columns=[\"Timestamp\"])\n",
        "# Cria uma coluna com o tempo em minutos/horas/dias\n",
        "df_periodo = df_periodo.reset_index(drop=True)\n",
        "\n",
        "# Plota os gráficos\n",
        "fig, axs = plt.subplots(3, 1)\n",
        "df.plot(y='Temperatura', ax=axs[0], title=\"Tempo X Temperatura\", xlabel=\"\", ylabel=\"Temperatura (°C)\", xlim=[0,dict_periodo[periodo][1]-1], grid=True, xticks=range(0,dict_periodo[periodo][1]), figsize=(25,10))\n",
        "df.plot(y='Umidade', ax=axs[1], title=\"Tempo X Umidade\", xlabel=\"\", ylabel=\"Umidade (%Ur)\", xlim=[0,dict_periodo[periodo][1]-1], grid=True, xticks=range(0,dict_periodo[periodo][1]), figsize=(25,10))\n",
        "df.plot(y='Pressao', ax=axs[2], title=\"Tempo X Pressão\", xlabel=dict_periodo[periodo][2], ylabel=\"Pressão (hPa)\", xlim=[0,dict_periodo[periodo][1]-1], grid=True, xticks=range(0,dict_periodo[periodo][1]), figsize=(25,10))\n",
        "fig_manager = plt.get_current_fig_manager()\n",
        "plt.show()"
      ]
    }
  ],
  "metadata": {
    "kernelspec": {
      "display_name": "Python 3",
      "language": "python",
      "name": "python3"
    },
    "language_info": {
      "codemirror_mode": {
        "name": "ipython",
        "version": 3
      },
      "file_extension": ".py",
      "mimetype": "text/x-python",
      "name": "python",
      "nbconvert_exporter": "python",
      "pygments_lexer": "ipython3",
      "version": "3.11.6"
    },
    "colab": {
      "provenance": [],
      "include_colab_link": true
    }
  },
  "nbformat": 4,
  "nbformat_minor": 0
}